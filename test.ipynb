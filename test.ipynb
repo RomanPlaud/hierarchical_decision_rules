{
 "cells": [
  {
   "cell_type": "code",
   "execution_count": 51,
   "id": "d1456e63",
   "metadata": {},
   "outputs": [],
   "source": [
    "import pickle as pkl\n",
    "import numpy as np\n",
    "import torch\n",
    "import torch.nn as nn\n",
    "idx2name = pkl.load(open('data/hierarchies/tieredimagenet/tieredimagenet_idx_to_name.pkl', 'rb'))\n",
    "class2idx = pkl.load(open('data/hierarchies/tieredimagenet/tieredimagenet_class_to_idx.pkl', 'rb'))"
   ]
  },
  {
   "cell_type": "code",
   "execution_count": 52,
   "id": "fae4c75d",
   "metadata": {},
   "outputs": [],
   "source": [
    "from torchvision import transforms"
   ]
  },
  {
   "cell_type": "code",
   "execution_count": 53,
   "id": "043d6b96",
   "metadata": {},
   "outputs": [],
   "source": [
    "mean, std = [0.485, 0.456, 0.406], [0.229, 0.224, 0.225]\n",
    "t = transforms.Compose([\n",
    "        transforms.Resize((224, 224)),\n",
    "        transforms.ToTensor(),\n",
    "        transforms.Normalize(mean=mean, std=std),\n",
    "    ])"
   ]
  },
  {
   "cell_type": "code",
   "execution_count": 54,
   "id": "51d45ad0",
   "metadata": {},
   "outputs": [],
   "source": [
    "# open ILSVRC2012_val_00047737.JPEG and apply the transform\n",
    "from PIL import Image\n",
    "img = Image.open('ILSVRC2012_val_00047737.JPEG')\n",
    "img = t(img)\n",
    "\n",
    "imgs_blurred = [img]\n",
    "\n",
    "for sigma in np.linspace(1/10, 10, 100):\n",
    "    t_blurred = transforms.GaussianBlur(kernel_size=61, sigma=sigma)\n",
    "    img_blurred = t_blurred(img)\n",
    "    imgs_blurred.append(img_blurred)\n",
    "imgs_blurred = torch.stack(imgs_blurred)"
   ]
  },
  {
   "cell_type": "code",
   "execution_count": 55,
   "id": "e06e1340",
   "metadata": {},
   "outputs": [],
   "source": [
    "from torchvision.models import (\n",
    "    alexnet, AlexNet_Weights,\n",
    "    convnext_tiny, ConvNeXt_Tiny_Weights,\n",
    "    densenet121, DenseNet121_Weights,\n",
    "    efficientnet_v2_s, EfficientNet_V2_S_Weights,\n",
    "    inception_v3, Inception_V3_Weights,\n",
    "    resnet18, ResNet18_Weights,\n",
    "    swin_v2_t, Swin_V2_T_Weights,\n",
    "    vgg11, VGG11_Weights,\n",
    "    vit_b_16, ViT_B_16_Weights,\n",
    ")"
   ]
  },
  {
   "cell_type": "code",
   "execution_count": 56,
   "id": "4b4fdec4",
   "metadata": {},
   "outputs": [],
   "source": [
    "MODEL_REGISTRY = {\n",
    "    'alexnet': (alexnet, AlexNet_Weights),\n",
    "    'convnext_tiny': (convnext_tiny, ConvNeXt_Tiny_Weights),\n",
    "    'densenet121': (densenet121, DenseNet121_Weights),\n",
    "    'efficientnet_v2_s': (efficientnet_v2_s, EfficientNet_V2_S_Weights),\n",
    "    'inception_v3': (inception_v3, Inception_V3_Weights),\n",
    "    'resnet18': (resnet18, ResNet18_Weights),\n",
    "    'swin_v2_t': (swin_v2_t, Swin_V2_T_Weights),\n",
    "    'vgg11': (vgg11, VGG11_Weights),\n",
    "    'vit_b_16': (vit_b_16, ViT_B_16_Weights),\n",
    "}"
   ]
  },
  {
   "cell_type": "code",
   "execution_count": 57,
   "id": "42378bee",
   "metadata": {},
   "outputs": [],
   "source": [
    "def get_pretrained_model(model_name: str):\n",
    "    \"\"\"\n",
    "    Return a model constructor and weights given a model name.\n",
    "    \"\"\"\n",
    "    if model_name not in MODEL_REGISTRY:\n",
    "        raise ValueError(f\"Unknown model '{model_name}'. Available: {list(MODEL_REGISTRY)}\")\n",
    "\n",
    "    constructor, weights_cls = MODEL_REGISTRY[model_name]\n",
    "    return constructor, weights_cls\n"
   ]
  },
  {
   "cell_type": "code",
   "execution_count": 58,
   "id": "80007fe2",
   "metadata": {},
   "outputs": [],
   "source": [
    "model_constructor, weights_cls = get_pretrained_model('vgg11')\n",
    "weights = weights_cls.IMAGENET1K_V1\n",
    "model = model_constructor(weights=weights)"
   ]
  },
  {
   "cell_type": "code",
   "execution_count": 59,
   "id": "701df472",
   "metadata": {},
   "outputs": [],
   "source": [
    "idx_mapping = pkl.load(open('data/hierarchies/tieredimagenet/tiredimagenet_corresponding_index.pkl', 'rb'))"
   ]
  },
  {
   "cell_type": "code",
   "execution_count": 60,
   "id": "0dd54b51",
   "metadata": {},
   "outputs": [
    {
     "data": {
      "text/plain": [
       "Linear(in_features=4096, out_features=1000, bias=True)"
      ]
     },
     "execution_count": 60,
     "metadata": {},
     "output_type": "execute_result"
    }
   ],
   "source": [
    "model.classifier[6]"
   ]
  },
  {
   "cell_type": "code",
   "execution_count": 11,
   "id": "38ac8553",
   "metadata": {},
   "outputs": [],
   "source": [
    "indices = [idx_mapping[key] for key in idx_mapping]\n",
    "indices = torch.tensor(indices, dtype=torch.long)\n",
    "\n",
    "# Get original weights and bias\n",
    "old_weight = model.classifier[6].weight.data\n",
    "old_bias = model.classifier[6].bias.data\n",
    "\n",
    "# Prune\n",
    "new_weight = old_weight[indices]\n",
    "new_bias = old_bias[indices]\n",
    "\n",
    "# Replace parameters\n",
    "model.classifier[6].weight = nn.Parameter(new_weight)\n",
    "model.classifier[6].bias = nn.Parameter(new_bias)\n",
    "model.classifier[6].out_features = len(indices)"
   ]
  },
  {
   "cell_type": "code",
   "execution_count": 12,
   "id": "bfd2eee9",
   "metadata": {},
   "outputs": [],
   "source": [
    "proba_leaves = model.forward(imgs_blurred).detach().numpy()"
   ]
  },
  {
   "cell_type": "code",
   "execution_count": 13,
   "id": "e6cb5126",
   "metadata": {},
   "outputs": [
    {
     "data": {
      "text/plain": [
       "<module 'hierulz.hierarchy.hierarchy' from '/home/infres/rplaud/hierarchical_decision_rules/hierulz/hierarchy/hierarchy.py'>"
      ]
     },
     "execution_count": 13,
     "metadata": {},
     "output_type": "execute_result"
    }
   ],
   "source": [
    "import hierulz.hierarchy.hierarchy as hhh\n",
    "import importlib\n",
    "importlib.reload(hhh)"
   ]
  },
  {
   "cell_type": "code",
   "execution_count": 14,
   "id": "19337fe4",
   "metadata": {},
   "outputs": [],
   "source": [
    "from hierulz.hierarchy import Hierarchy, load_hierarchy\n"
   ]
  },
  {
   "cell_type": "code",
   "execution_count": 15,
   "id": "46f0c66d",
   "metadata": {},
   "outputs": [],
   "source": [
    "h = load_hierarchy('data/hierarchies/tieredimagenet/tieredimagenet_hierarchy_idx.pkl')"
   ]
  },
  {
   "cell_type": "code",
   "execution_count": 16,
   "id": "202db8b0",
   "metadata": {},
   "outputs": [],
   "source": [
    "proba_nodes = h.get_probas(proba_leaves)"
   ]
  },
  {
   "cell_type": "code",
   "execution_count": 17,
   "id": "9b082c62",
   "metadata": {},
   "outputs": [],
   "source": [
    "from hierulz.metrics import load_metric, hFBetaScore, Accuracy\n",
    "from hierulz.heuristics import TopDown, Plurality"
   ]
  },
  {
   "cell_type": "code",
   "execution_count": 18,
   "id": "69163b95",
   "metadata": {},
   "outputs": [],
   "source": [
    "m = hFBetaScore(hierarchy=h, beta=1.0)\n",
    "argmax = Accuracy(hierarchy=h)\n",
    "top_down_heuristic = TopDown(hierarchy=h)\n",
    "plurality_heuristic = Plurality(hierarchy=h)"
   ]
  },
  {
   "cell_type": "code",
   "execution_count": 19,
   "id": "1bc1f1e1",
   "metadata": {},
   "outputs": [],
   "source": [
    "pred_opt = m.decode(proba_nodes)"
   ]
  },
  {
   "cell_type": "code",
   "execution_count": 20,
   "id": "ff9e0f90",
   "metadata": {},
   "outputs": [],
   "source": [
    "pred_argmax = argmax.decode(proba_nodes)"
   ]
  },
  {
   "cell_type": "code",
   "execution_count": 21,
   "id": "ac16a7e3",
   "metadata": {},
   "outputs": [],
   "source": [
    "pred_top_down = top_down_heuristic.decode(proba_nodes)\n",
    "pred_plurality = plurality_heuristic.decode(proba_nodes)"
   ]
  },
  {
   "cell_type": "code",
   "execution_count": 45,
   "id": "c0891f84",
   "metadata": {},
   "outputs": [],
   "source": [
    "def decode_pred(pred, h, idx2name):\n",
    "    labels = np.where(pred)[0]\n",
    "    pred = [h.root_idx]\n",
    "    bool=True\n",
    "    while bool:\n",
    "        bool_i = False\n",
    "        for l in pred:\n",
    "            if l in h.leaves_idx:\n",
    "                pass\n",
    "            # del l from pred and add the children of l to pred\n",
    "            else :\n",
    "                print(h.hierarchy_dico_idx[l], set(labels))\n",
    "                inter = list(set(h.hierarchy_dico_idx[l]).intersection(set(labels)))\n",
    "                print(inter)\n",
    "                if len(inter) > 0:\n",
    "                    pred.remove(l)\n",
    "                    pred.extend(inter)\n",
    "                    bool_i = True\n",
    "        bool = bool_i\n",
    "    return [idx2name[p] for p in pred]\n"
   ]
  },
  {
   "cell_type": "code",
   "execution_count": 47,
   "id": "8090b820",
   "metadata": {},
   "outputs": [
    {
     "data": {
      "text/plain": [
       "[747, 733]"
      ]
     },
     "execution_count": 47,
     "metadata": {},
     "output_type": "execute_result"
    }
   ],
   "source": [
    "h.hierarchy_dico_idx[h.root_idx]"
   ]
  },
  {
   "cell_type": "code",
   "execution_count": 46,
   "id": "917c3988",
   "metadata": {},
   "outputs": [
    {
     "name": "stdout",
     "output_type": "stream",
     "text": [
      "[747, 733] {642, 804, 615, 745, 746, 657, 667, 636, 670}\n",
      "[]\n"
     ]
    },
    {
     "data": {
      "text/plain": [
       "['physical_entity']"
      ]
     },
     "execution_count": 46,
     "metadata": {},
     "output_type": "execute_result"
    }
   ],
   "source": [
    "decode_pred(pred_opt[1], h, idx2name)"
   ]
  },
  {
   "cell_type": "code",
   "execution_count": 50,
   "id": "3f8dcb67",
   "metadata": {},
   "outputs": [
    {
     "data": {
      "text/plain": [
       "((array([615, 636, 642, 657, 667, 670, 745, 746, 804]),), 719)"
      ]
     },
     "execution_count": 50,
     "metadata": {},
     "output_type": "execute_result"
    }
   ],
   "source": [
    "np.where(pred_opt[1]), h.root_idx"
   ]
  },
  {
   "cell_type": "code",
   "execution_count": null,
   "id": "f55d41ec",
   "metadata": {},
   "outputs": [],
   "source": []
  }
 ],
 "metadata": {
  "kernelspec": {
   "display_name": "hitin",
   "language": "python",
   "name": "python3"
  },
  "language_info": {
   "codemirror_mode": {
    "name": "ipython",
    "version": 3
   },
   "file_extension": ".py",
   "mimetype": "text/x-python",
   "name": "python",
   "nbconvert_exporter": "python",
   "pygments_lexer": "ipython3",
   "version": "3.11.5"
  }
 },
 "nbformat": 4,
 "nbformat_minor": 5
}
